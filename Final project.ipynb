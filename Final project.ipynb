{
 "cells": [
  {
   "cell_type": "code",
   "execution_count": 28,
   "metadata": {},
   "outputs": [],
   "source": [
    "import requests\n",
    "from bs4 import BeautifulSoup\n",
    " \n",
    "response = requests.get('http://www.weather.go.kr/weather/observation/currentweather.jsp')\n",
    "soup = BeautifulSoup(response.content, 'html.parser')\n",
    " \n",
    "table = soup.find('table', { 'class': 'table_develop3' })\n",
    "data = []\n",
    "for tr in table.find_all('tr'):\n",
    "    tds = list(tr.find_all('td'))\n",
    "\n",
    "    for td in tds:\n",
    "        if td.find('a'):\n",
    "            point = td.find('a').text\n",
    "            temperature = tds[5].text\n",
    "            feeltemp = tds[7].text\n",
    "            humidity = tds[10].text\n",
    "            data.append([point, temperature, feeltemp, humidity])\n",
    "\n",
    "with open('weather.csv', 'w') as file:\n",
    "    file.write('point,temperature,feeltemp,humidity\\n')\n",
    "    for i in data:\n",
    "        file.write('{0},{1},{2},{3}\\n'.format(i[0], i[1], i[2], i[3]))"
   ]
  },
  {
   "cell_type": "code",
   "execution_count": 44,
   "metadata": {},
   "outputs": [
    {
     "data": {
      "text/plain": [
       "<matplotlib.legend.Legend at 0x12c0f04aaf0>"
      ]
     },
     "execution_count": 44,
     "metadata": {},
     "output_type": "execute_result"
    },
    {
     "data": {
      "image/png": "[encoded data removed]",
      "text/plain": [
       "<Figure size 864x288 with 1 Axes>"
      ]
     },
     "metadata": {
      "needs_background": "light"
     },
     "output_type": "display_data"
    }
   ],
   "source": [
    "import pandas as pd\n",
    "import matplotlib as mpl\n",
    "import matplotlib.pyplot as plt\n",
    "\n",
    "df = pd.read_csv('weather.csv', index_col='point', encoding='euc-kr')\n",
    "\n",
    "df.groupby(['point'])\n",
    "city_df = df.loc[['서울', '인천', '대전', '대구', '광주', '부산', '울산']]\n",
    "\n",
    "ax = city_df.plot(kind='bar', title='날씨', figsize=(12, 4), legend=True, fontsize=12)\n",
    "ax.set_xlabel('도시', fontsize=12)\n",
    "ax.set_ylabel('기온/습도', fontsize=12)\n",
    "ax.legend(['기온', '체감기온' ,'습도'], fontsize=12)\n"
   ]
  },
  {
   "cell_type": "code",
   "execution_count": null,
   "metadata": {},
   "outputs": [],
   "source": []
  }
 ],
 "metadata": {
  "kernelspec": {
   "display_name": "Python 3",
   "language": "python",
   "name": "python3"
  },
  "language_info": {
   "codemirror_mode": {
    "name": "ipython",
    "version": 3
   },
   "file_extension": ".py",
   "mimetype": "text/x-python",
   "name": "python",
   "nbconvert_exporter": "python",
   "pygments_lexer": "ipython3",
   "version": "3.8.3"
  }
 },
 "nbformat": 4,
 "nbformat_minor": 4
}
